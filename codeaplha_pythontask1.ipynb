{
 "cells": [
  {
   "cell_type": "code",
   "execution_count": 11,
   "id": "f5767f67-d619-4e85-bbb3-19ddb7b7cb37",
   "metadata": {},
   "outputs": [
    {
     "name": "stdout",
     "output_type": "stream",
     "text": [
      "🎮 Welcome to Hangman!\n",
      "Guess the word. You have 6 chances.\n",
      "_ _ _ _ _ \n"
     ]
    },
    {
     "name": "stdin",
     "output_type": "stream",
     "text": [
      "Guess a letter:  f\n"
     ]
    },
    {
     "name": "stdout",
     "output_type": "stream",
     "text": [
      "❌ Wrong! Letter not in word.\n",
      "Turns left: 5 \n",
      "\n",
      "_ _ _ _ _ \n"
     ]
    },
    {
     "name": "stdin",
     "output_type": "stream",
     "text": [
      "Guess a letter:  a\n"
     ]
    },
    {
     "name": "stdout",
     "output_type": "stream",
     "text": [
      "a _ _ _ _ \n"
     ]
    },
    {
     "name": "stdin",
     "output_type": "stream",
     "text": [
      "Guess a letter:  h\n"
     ]
    },
    {
     "name": "stdout",
     "output_type": "stream",
     "text": [
      "❌ Wrong! Letter not in word.\n",
      "Turns left: 4 \n",
      "\n",
      "a _ _ _ _ \n"
     ]
    },
    {
     "name": "stdin",
     "output_type": "stream",
     "text": [
      "Guess a letter:  a\n"
     ]
    },
    {
     "name": "stdout",
     "output_type": "stream",
     "text": [
      "🔁 You already guessed that letter. Lost 1 chance.\n",
      "Turns left: 3 \n",
      "\n",
      "a _ _ _ _ \n"
     ]
    },
    {
     "name": "stdin",
     "output_type": "stream",
     "text": [
      "Guess a letter:  p\n"
     ]
    },
    {
     "name": "stdout",
     "output_type": "stream",
     "text": [
      "a p p _ _ \n"
     ]
    },
    {
     "name": "stdin",
     "output_type": "stream",
     "text": [
      "Guess a letter:  l\n"
     ]
    },
    {
     "name": "stdout",
     "output_type": "stream",
     "text": [
      "a p p l _ \n"
     ]
    },
    {
     "name": "stdin",
     "output_type": "stream",
     "text": [
      "Guess a letter:  e\n"
     ]
    },
    {
     "name": "stdout",
     "output_type": "stream",
     "text": [
      "a p p l e \n",
      "🎉 You Win! The word was: apple\n"
     ]
    }
   ],
   "source": [
    "import random\n",
    "\n",
    "words = [\"apple\", \"grape\", \"mango\", \"peach\", \"berry\"]\n",
    "word = random.choice(words)\n",
    "\n",
    "guessed_letters = []\n",
    "turns = 6\n",
    "\n",
    "print(\"🎮 Welcome to Hangman!\")\n",
    "print(\"Guess the word. You have 6 chances.\")\n",
    "\n",
    "while turns > 0:\n",
    "    wrong = 0\n",
    "\n",
    "    for letter in word:\n",
    "        if letter in guessed_letters:\n",
    "            print(letter, end=' ')\n",
    "        else:\n",
    "            print(\"_\", end=' ')\n",
    "            wrong += 1\n",
    "\n",
    "    print()\n",
    "\n",
    "    if wrong == 0:\n",
    "        print(\"🎉 You Win! The word was:\", word)\n",
    "        break\n",
    "\n",
    "    guess = input(\"Guess a letter: \").lower()\n",
    "\n",
    "    if not guess.isalpha() or len(guess) != 1:\n",
    "        print(\"⚠️ Enter only one letter.\\n\")\n",
    "        continue\n",
    "\n",
    "    if guess in guessed_letters:\n",
    "        turns -= 1\n",
    "        print(\"🔁 You already guessed that letter. Lost 1 chance.\")\n",
    "        print(\"Turns left:\", turns, \"\\n\")\n",
    "        continue\n",
    "\n",
    "    guessed_letters.append(guess)\n",
    "\n",
    "    if guess not in word:\n",
    "        turns -= 1\n",
    "        print(\"❌ Wrong! Letter not in word.\")\n",
    "        print(\"Turns left:\", turns, \"\\n\")\n",
    "\n",
    "    if turns == 0:\n",
    "        print(\"😢 You Lose! The word was:\", word)\n"
   ]
  },
  {
   "cell_type": "code",
   "execution_count": null,
   "id": "6ae0dd9b-6459-43a7-a294-9c0c6ae5833d",
   "metadata": {},
   "outputs": [],
   "source": []
  },
  {
   "cell_type": "code",
   "execution_count": null,
   "id": "fa177001-aebc-419e-9a25-31d04fcab40b",
   "metadata": {},
   "outputs": [],
   "source": []
  }
 ],
 "metadata": {
  "kernelspec": {
   "display_name": "Python 3 (ipykernel)",
   "language": "python",
   "name": "python3"
  },
  "language_info": {
   "codemirror_mode": {
    "name": "ipython",
    "version": 3
   },
   "file_extension": ".py",
   "mimetype": "text/x-python",
   "name": "python",
   "nbconvert_exporter": "python",
   "pygments_lexer": "ipython3",
   "version": "3.12.7"
  }
 },
 "nbformat": 4,
 "nbformat_minor": 5
}
