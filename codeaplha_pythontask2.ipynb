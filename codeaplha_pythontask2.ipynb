{
 "cells": [
  {
   "cell_type": "code",
   "execution_count": 1,
   "id": "f627db19-9137-4fae-84f2-350d2a04ce00",
   "metadata": {},
   "outputs": [
    {
     "name": "stdout",
     "output_type": "stream",
     "text": [
      "🤖 ChatBot: Hello! Type 'bye' to exit the chat.\n"
     ]
    },
    {
     "name": "stdin",
     "output_type": "stream",
     "text": [
      "👤 You:  hello\n"
     ]
    },
    {
     "name": "stdout",
     "output_type": "stream",
     "text": [
      "🤖 ChatBot: Hi!\n"
     ]
    },
    {
     "name": "stdin",
     "output_type": "stream",
     "text": [
      "👤 You:  ho are you\n"
     ]
    },
    {
     "name": "stdout",
     "output_type": "stream",
     "text": [
      "🤖 ChatBot: Sorry, I didn't understand that.\n"
     ]
    },
    {
     "name": "stdin",
     "output_type": "stream",
     "text": [
      "👤 You:  how are you\n"
     ]
    },
    {
     "name": "stdout",
     "output_type": "stream",
     "text": [
      "🤖 ChatBot: I'm fine, thanks!\n"
     ]
    },
    {
     "name": "stdin",
     "output_type": "stream",
     "text": [
      "👤 You:  bye\n"
     ]
    },
    {
     "name": "stdout",
     "output_type": "stream",
     "text": [
      "🤖 ChatBot: Goodbye!\n"
     ]
    }
   ],
   "source": [
    "def get_response(user_input):\n",
    "    user_input = user_input.lower()\n",
    "\n",
    "    if user_input == \"hello\":\n",
    "        return \"Hi!\"\n",
    "    elif user_input == \"how are you\":\n",
    "        return \"I'm fine, thanks!\"\n",
    "    elif user_input == \"help\":\n",
    "        return \"You can ask me things like 'hello', 'how are you', 'bye'.\"\n",
    "    elif user_input == \"bye\":\n",
    "        return \"Goodbye!\"\n",
    "    else:\n",
    "        return \"Sorry, I didn't understand that.\"\n",
    "\n",
    "def chat():\n",
    "    print(\"🤖 ChatBot: Hello! Type 'bye' to exit the chat.\")\n",
    "\n",
    "    while True:\n",
    "        user_input = input(\"👤 You: \")\n",
    "        response = get_response(user_input)\n",
    "        print(\"🤖 ChatBot:\", response)\n",
    "\n",
    "        if user_input.lower() == \"bye\":\n",
    "            break\n",
    "\n",
    "chat()\n"
   ]
  },
  {
   "cell_type": "code",
   "execution_count": null,
   "id": "d56e6064-593d-4778-b9ce-595c33c54dc9",
   "metadata": {},
   "outputs": [],
   "source": []
  }
 ],
 "metadata": {
  "kernelspec": {
   "display_name": "Python 3 (ipykernel)",
   "language": "python",
   "name": "python3"
  },
  "language_info": {
   "codemirror_mode": {
    "name": "ipython",
    "version": 3
   },
   "file_extension": ".py",
   "mimetype": "text/x-python",
   "name": "python",
   "nbconvert_exporter": "python",
   "pygments_lexer": "ipython3",
   "version": "3.12.7"
  }
 },
 "nbformat": 4,
 "nbformat_minor": 5
}
